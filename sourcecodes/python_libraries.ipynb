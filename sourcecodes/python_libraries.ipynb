{
  "nbformat": 4,
  "nbformat_minor": 0,
  "metadata": {
    "colab": {
      "provenance": [],
      "authorship_tag": "ABX9TyPP3NmbLAljXNjCb2mEeypS",
      "include_colab_link": true
    },
    "kernelspec": {
      "name": "python3",
      "display_name": "Python 3"
    },
    "language_info": {
      "name": "python"
    }
  },
  "cells": [
    {
      "cell_type": "markdown",
      "metadata": {
        "id": "view-in-github",
        "colab_type": "text"
      },
      "source": [
        "<a href=\"https://colab.research.google.com/github/gurwoghd/2023_WFK_ICT-Laos-/blob/main/sourcecodes/python_libraries.ipynb\" target=\"_parent\"><img src=\"https://colab.research.google.com/assets/colab-badge.svg\" alt=\"Open In Colab\"/></a>"
      ]
    },
    {
      "cell_type": "code",
      "source": [],
      "metadata": {
        "id": "9SYX8lNG7iUS"
      },
      "execution_count": null,
      "outputs": []
    },
    {
      "cell_type": "markdown",
      "source": [
        "# FILE HANDLING"
      ],
      "metadata": {
        "id": "elfgbvnlOycf"
      }
    },
    {
      "cell_type": "code",
      "source": [
        "file_path = '/content/drive/MyDrive/Jordan_edu/hello.txt' # cf) file_path can be varied.\n",
        "# you have to find the path to the file in your drive or computer.\n",
        "\n",
        "f=open(file_path, 'r')"
      ],
      "metadata": {
        "id": "EbZhXoZvPODs"
      },
      "execution_count": null,
      "outputs": []
    },
    {
      "cell_type": "code",
      "source": [
        "f.close()"
      ],
      "metadata": {
        "id": "vkX8gTR_0LUU"
      },
      "execution_count": null,
      "outputs": []
    },
    {
      "cell_type": "code",
      "source": [
        "with open(file_path, 'w') as f:\n",
        "  f.write('hello\\n')\n",
        "  f.writelines(['a','b','k']) # abk"
      ],
      "metadata": {
        "id": "Ii_vN2570Rj1"
      },
      "execution_count": null,
      "outputs": []
    },
    {
      "cell_type": "code",
      "source": [
        "f = open(file_path, 'r')"
      ],
      "metadata": {
        "id": "2B_YglU40qON"
      },
      "execution_count": null,
      "outputs": []
    },
    {
      "cell_type": "code",
      "source": [
        "str1=f.read(3)\n",
        "str1"
      ],
      "metadata": {
        "colab": {
          "base_uri": "https://localhost:8080/",
          "height": 35
        },
        "id": "Xk9lqsTE03Fk",
        "outputId": "06ff3221-8066-4c0a-8b3c-00b0b0d93e5f"
      },
      "execution_count": null,
      "outputs": [
        {
          "output_type": "execute_result",
          "data": {
            "text/plain": [
              "'hel'"
            ],
            "application/vnd.google.colaboratory.intrinsic+json": {
              "type": "string"
            }
          },
          "metadata": {},
          "execution_count": 12
        }
      ]
    },
    {
      "cell_type": "code",
      "source": [
        "f.tell()"
      ],
      "metadata": {
        "colab": {
          "base_uri": "https://localhost:8080/"
        },
        "id": "EIayBkNh1Ep_",
        "outputId": "3f38d899-be2d-4ba3-f314-f113ea00d789"
      },
      "execution_count": null,
      "outputs": [
        {
          "output_type": "execute_result",
          "data": {
            "text/plain": [
              "3"
            ]
          },
          "metadata": {},
          "execution_count": 13
        }
      ]
    },
    {
      "cell_type": "code",
      "source": [
        "str2 = f.readline()\n",
        "str2"
      ],
      "metadata": {
        "colab": {
          "base_uri": "https://localhost:8080/",
          "height": 35
        },
        "id": "-QFtZaue07Qg",
        "outputId": "90d1b681-1878-4a5f-b126-79d91618612a"
      },
      "execution_count": null,
      "outputs": [
        {
          "output_type": "execute_result",
          "data": {
            "text/plain": [
              "'lo\\n'"
            ],
            "application/vnd.google.colaboratory.intrinsic+json": {
              "type": "string"
            }
          },
          "metadata": {},
          "execution_count": 14
        }
      ]
    },
    {
      "cell_type": "code",
      "source": [
        "f.tell()"
      ],
      "metadata": {
        "colab": {
          "base_uri": "https://localhost:8080/"
        },
        "id": "m7hi7uPx0_V-",
        "outputId": "71eb9229-31c7-4763-f3b7-5f22e6ac63a6"
      },
      "execution_count": null,
      "outputs": [
        {
          "output_type": "execute_result",
          "data": {
            "text/plain": [
              "6"
            ]
          },
          "metadata": {},
          "execution_count": 15
        }
      ]
    },
    {
      "cell_type": "code",
      "source": [
        "f.seek(0)"
      ],
      "metadata": {
        "colab": {
          "base_uri": "https://localhost:8080/"
        },
        "id": "C2BKCMUu1M7d",
        "outputId": "889a87c5-a4a0-4e98-fbbc-14b475e34b75"
      },
      "execution_count": null,
      "outputs": [
        {
          "output_type": "execute_result",
          "data": {
            "text/plain": [
              "0"
            ]
          },
          "metadata": {},
          "execution_count": 16
        }
      ]
    },
    {
      "cell_type": "code",
      "source": [
        "f.readlines()"
      ],
      "metadata": {
        "colab": {
          "base_uri": "https://localhost:8080/"
        },
        "id": "WTFyLR-F1PZO",
        "outputId": "03a9676e-43b3-48b4-c9d9-65a8a9a55d8d"
      },
      "execution_count": null,
      "outputs": [
        {
          "output_type": "execute_result",
          "data": {
            "text/plain": [
              "['hello\\n', 'abk']"
            ]
          },
          "metadata": {},
          "execution_count": 17
        }
      ]
    },
    {
      "cell_type": "code",
      "source": [
        "f.tell()"
      ],
      "metadata": {
        "colab": {
          "base_uri": "https://localhost:8080/"
        },
        "id": "jHElyUB71STA",
        "outputId": "e9c340f2-838d-4768-b148-8a8e28547d1d"
      },
      "execution_count": null,
      "outputs": [
        {
          "output_type": "execute_result",
          "data": {
            "text/plain": [
              "9"
            ]
          },
          "metadata": {},
          "execution_count": 18
        }
      ]
    },
    {
      "cell_type": "code",
      "source": [
        "f.close()"
      ],
      "metadata": {
        "id": "Y61llA_k1BcE"
      },
      "execution_count": null,
      "outputs": []
    },
    {
      "cell_type": "markdown",
      "source": [
        "# USING LIABRARY"
      ],
      "metadata": {
        "id": "wgVPwSVI1dOx"
      }
    },
    {
      "cell_type": "markdown",
      "source": [
        "## math module"
      ],
      "metadata": {
        "id": "KHMMTxMC1fnK"
      }
    },
    {
      "cell_type": "markdown",
      "source": [
        "### first way to import math module"
      ],
      "metadata": {
        "id": "uRZxyE8b1qa8"
      }
    },
    {
      "cell_type": "code",
      "source": [
        "import math\n",
        "math.pow(2,4)"
      ],
      "metadata": {
        "colab": {
          "base_uri": "https://localhost:8080/"
        },
        "id": "ItFwP0wE1iRn",
        "outputId": "b26957c1-8763-4406-d56f-90feaf02962a"
      },
      "execution_count": null,
      "outputs": [
        {
          "output_type": "execute_result",
          "data": {
            "text/plain": [
              "16.0"
            ]
          },
          "metadata": {},
          "execution_count": 22
        }
      ]
    },
    {
      "cell_type": "code",
      "source": [
        "math.sqrt(5)"
      ],
      "metadata": {
        "colab": {
          "base_uri": "https://localhost:8080/"
        },
        "id": "IW3NJoXn1m4L",
        "outputId": "71ba42be-e7e1-42bc-c563-71515d02c281"
      },
      "execution_count": null,
      "outputs": [
        {
          "output_type": "execute_result",
          "data": {
            "text/plain": [
              "2.23606797749979"
            ]
          },
          "metadata": {},
          "execution_count": 23
        }
      ]
    },
    {
      "cell_type": "markdown",
      "source": [
        "### second way to import math module"
      ],
      "metadata": {
        "id": "80xFGnTl1v3z"
      }
    },
    {
      "cell_type": "code",
      "source": [
        "import math as m"
      ],
      "metadata": {
        "id": "uVGTzD2m1yjL"
      },
      "execution_count": null,
      "outputs": []
    },
    {
      "cell_type": "code",
      "source": [
        "m.pow(2,4)"
      ],
      "metadata": {
        "colab": {
          "base_uri": "https://localhost:8080/"
        },
        "id": "xcsO6Nn711f0",
        "outputId": "4a9ade1d-3cc1-4211-9a4b-9840ae64310b"
      },
      "execution_count": null,
      "outputs": [
        {
          "output_type": "execute_result",
          "data": {
            "text/plain": [
              "16.0"
            ]
          },
          "metadata": {},
          "execution_count": 25
        }
      ]
    },
    {
      "cell_type": "code",
      "source": [
        "m.sqrt(5)"
      ],
      "metadata": {
        "colab": {
          "base_uri": "https://localhost:8080/"
        },
        "id": "5pdCKLXy13Kk",
        "outputId": "93cdc1a6-de9a-4a40-dc94-d483d6ea76db"
      },
      "execution_count": null,
      "outputs": [
        {
          "output_type": "execute_result",
          "data": {
            "text/plain": [
              "2.23606797749979"
            ]
          },
          "metadata": {},
          "execution_count": 27
        }
      ]
    },
    {
      "cell_type": "markdown",
      "source": [
        "### third way to import math module"
      ],
      "metadata": {
        "id": "aknUoU4T166p"
      }
    },
    {
      "cell_type": "code",
      "source": [
        "from math import pow, sqrt"
      ],
      "metadata": {
        "id": "ahgCBZUe15w_"
      },
      "execution_count": null,
      "outputs": []
    },
    {
      "cell_type": "code",
      "source": [
        "pow(2,4)"
      ],
      "metadata": {
        "colab": {
          "base_uri": "https://localhost:8080/"
        },
        "id": "aDcdf5pb2Afv",
        "outputId": "283dc94b-1fcf-41d6-bed7-b98b69641f7c"
      },
      "execution_count": null,
      "outputs": [
        {
          "output_type": "execute_result",
          "data": {
            "text/plain": [
              "16.0"
            ]
          },
          "metadata": {},
          "execution_count": 29
        }
      ]
    },
    {
      "cell_type": "code",
      "source": [
        "sqrt(5)"
      ],
      "metadata": {
        "colab": {
          "base_uri": "https://localhost:8080/"
        },
        "id": "7DJplxNK2BpT",
        "outputId": "87f8033e-510d-42e1-e3a5-2301d4a9c736"
      },
      "execution_count": null,
      "outputs": [
        {
          "output_type": "execute_result",
          "data": {
            "text/plain": [
              "2.23606797749979"
            ]
          },
          "metadata": {},
          "execution_count": 30
        }
      ]
    },
    {
      "cell_type": "markdown",
      "source": [
        "### forth way to import math module"
      ],
      "metadata": {
        "id": "fqJnQaQY2EPp"
      }
    },
    {
      "cell_type": "code",
      "source": [
        "from math import pow as p, sqrt as s"
      ],
      "metadata": {
        "id": "PrWeEKL02GTf"
      },
      "execution_count": null,
      "outputs": []
    },
    {
      "cell_type": "code",
      "source": [
        "p(2,4)"
      ],
      "metadata": {
        "colab": {
          "base_uri": "https://localhost:8080/"
        },
        "id": "PD11xrHA2Jxr",
        "outputId": "cdc16112-6242-4cfb-fb11-250f03a18609"
      },
      "execution_count": null,
      "outputs": [
        {
          "output_type": "execute_result",
          "data": {
            "text/plain": [
              "16.0"
            ]
          },
          "metadata": {},
          "execution_count": 32
        }
      ]
    },
    {
      "cell_type": "code",
      "source": [
        "s(5)"
      ],
      "metadata": {
        "colab": {
          "base_uri": "https://localhost:8080/"
        },
        "id": "8Z2uyiJc2MsE",
        "outputId": "b0b514a8-7542-4ea9-fdf8-831fd9f243c2"
      },
      "execution_count": null,
      "outputs": [
        {
          "output_type": "execute_result",
          "data": {
            "text/plain": [
              "2.23606797749979"
            ]
          },
          "metadata": {},
          "execution_count": 33
        }
      ]
    },
    {
      "cell_type": "markdown",
      "source": [
        "### Lab\n",
        "try printing square root of input data (data type is int)"
      ],
      "metadata": {
        "id": "4fTlDRnt2Q4F"
      }
    },
    {
      "cell_type": "code",
      "source": [
        "import math\n",
        "\n",
        "a = int(input())\n",
        "print('The square root of', a, 'is',math.sqrt(a))"
      ],
      "metadata": {
        "colab": {
          "base_uri": "https://localhost:8080/"
        },
        "id": "pFSgWbOk2Xv6",
        "outputId": "94c99e51-58a4-40c6-eab7-d83db7907d0a"
      },
      "execution_count": null,
      "outputs": [
        {
          "output_type": "stream",
          "name": "stdout",
          "text": [
            "14\n",
            "The square root of 14 is 3.7416573867739413\n"
          ]
        }
      ]
    },
    {
      "cell_type": "markdown",
      "source": [
        "## random module"
      ],
      "metadata": {
        "id": "njGD6KOE2mgU"
      }
    },
    {
      "cell_type": "code",
      "source": [
        "import random"
      ],
      "metadata": {
        "id": "cb-_Kf612oy5"
      },
      "execution_count": null,
      "outputs": []
    },
    {
      "cell_type": "code",
      "source": [
        "random.random() # this returns float between 0 and 1"
      ],
      "metadata": {
        "colab": {
          "base_uri": "https://localhost:8080/"
        },
        "id": "I3Pp-QtK2rAC",
        "outputId": "c78b3640-9e8d-4bf7-ff33-0915f330e673"
      },
      "execution_count": null,
      "outputs": [
        {
          "output_type": "execute_result",
          "data": {
            "text/plain": [
              "0.5226425055368724"
            ]
          },
          "metadata": {},
          "execution_count": 3
        }
      ]
    },
    {
      "cell_type": "code",
      "source": [
        "random.uniform(2,4)"
      ],
      "metadata": {
        "colab": {
          "base_uri": "https://localhost:8080/"
        },
        "id": "a1c3UDRJ2w13",
        "outputId": "c4a60b21-9022-431e-b108-b230950c8f23"
      },
      "execution_count": null,
      "outputs": [
        {
          "output_type": "execute_result",
          "data": {
            "text/plain": [
              "3.847501484263841"
            ]
          },
          "metadata": {},
          "execution_count": 7
        }
      ]
    },
    {
      "cell_type": "code",
      "source": [
        "random.randint(2,4)"
      ],
      "metadata": {
        "colab": {
          "base_uri": "https://localhost:8080/"
        },
        "id": "Id2fT82L2z9M",
        "outputId": "c7f7b261-d756-4bac-807a-84042d77b4ba"
      },
      "execution_count": null,
      "outputs": [
        {
          "output_type": "execute_result",
          "data": {
            "text/plain": [
              "4"
            ]
          },
          "metadata": {},
          "execution_count": 48
        }
      ]
    },
    {
      "cell_type": "code",
      "source": [
        "random.randrange(1,7,1)"
      ],
      "metadata": {
        "colab": {
          "base_uri": "https://localhost:8080/"
        },
        "id": "Xi_uDHgd2tTH",
        "outputId": "af99de1e-3bb3-44db-e45b-8c110c914da6"
      },
      "execution_count": null,
      "outputs": [
        {
          "output_type": "execute_result",
          "data": {
            "text/plain": [
              "2"
            ]
          },
          "metadata": {},
          "execution_count": 49
        }
      ]
    },
    {
      "cell_type": "code",
      "source": [
        "seq = [1,2,3,4,5,6]\n",
        "random.choice(seq)"
      ],
      "metadata": {
        "colab": {
          "base_uri": "https://localhost:8080/"
        },
        "id": "QMVdt0Jl3KoF",
        "outputId": "9facd21d-30e8-49a7-e1a4-fcc061c0633a"
      },
      "execution_count": null,
      "outputs": [
        {
          "output_type": "execute_result",
          "data": {
            "text/plain": [
              "1"
            ]
          },
          "metadata": {},
          "execution_count": 53
        }
      ]
    },
    {
      "cell_type": "code",
      "source": [
        "random.shuffle(seq)\n",
        "seq"
      ],
      "metadata": {
        "colab": {
          "base_uri": "https://localhost:8080/"
        },
        "id": "-NNWnQX83YpO",
        "outputId": "bd33d6b5-b38e-456a-c43b-668b84c32c90"
      },
      "execution_count": null,
      "outputs": [
        {
          "output_type": "execute_result",
          "data": {
            "text/plain": [
              "[4, 2, 5, 3, 6, 1]"
            ]
          },
          "metadata": {},
          "execution_count": 54
        }
      ]
    },
    {
      "cell_type": "markdown",
      "source": [
        "### rock scissors paper"
      ],
      "metadata": {
        "id": "KatIdqGX9IcE"
      }
    },
    {
      "cell_type": "code",
      "execution_count": null,
      "metadata": {
        "colab": {
          "base_uri": "https://localhost:8080/"
        },
        "id": "0nMyinfo7Z0J",
        "outputId": "e1adcace-3b69-4d3e-c29c-3e4d905bfb66"
      },
      "outputs": [
        {
          "output_type": "stream",
          "name": "stdout",
          "text": [
            "rock scissors paper!! (1: rock, 2: scissor, 3:paper) => 1\n",
            "you:  rock com:  rock\n",
            "rock scissors paper!! (1: rock, 2: scissor, 3:paper) => 2\n",
            "you:  scissors com:  rock\n",
            "rock scissors paper!! (1: rock, 2: scissor, 3:paper) => 3\n",
            "you:  paper com:  paper\n",
            "rock scissors paper!! (1: rock, 2: scissor, 3:paper) => 3\n",
            "you:  paper com:  paper\n",
            "rock scissors paper!! (1: rock, 2: scissor, 3:paper) => 3\n",
            "you:  paper com:  paper\n",
            "rock scissors paper!! (1: rock, 2: scissor, 3:paper) => 3\n",
            "you:  paper com:  paper\n",
            "rock scissors paper!! (1: rock, 2: scissor, 3:paper) => 3\n",
            "you:  paper com:  paper\n",
            "rock scissors paper!! (1: rock, 2: scissor, 3:paper) => 3\n",
            "you:  paper com:  scissors\n",
            "rock scissors paper!! (1: rock, 2: scissor, 3:paper) => 3\n",
            "you win!! you:  paper com:  rock\n"
          ]
        }
      ],
      "source": [
        "import random\n",
        "\n",
        "rsp = ['rock', 'scissors', 'paper']\n",
        "\n",
        "while True:\n",
        "  data = int(input(\"rock scissors paper!! (1: rock, 2: scissor, 3:paper) => \"))\n",
        "\n",
        "  com_data = random.randint(1,3)\n",
        "  if data == 1 and com_data == 2:\n",
        "    print('you win!! you: ', rsp[data-1], 'com: ', rsp[com_data-1])\n",
        "    break\n",
        "  elif data == 2 and com_data == 3:\n",
        "    print('you win!! you: ', rsp[data-1], 'com: ', rsp[com_data-1])\n",
        "    break\n",
        "  elif data == 3 and com_data == 1:\n",
        "    print('you win!! you: ', rsp[data-1], 'com: ', rsp[com_data-1])\n",
        "    break\n",
        "  else:\n",
        "    print('you: ', rsp[data-1], 'com: ', rsp[com_data-1])\n"
      ]
    },
    {
      "cell_type": "markdown",
      "source": [
        "### Lab\n",
        "making a lottery machine"
      ],
      "metadata": {
        "id": "9dR08CgmFjdo"
      }
    },
    {
      "cell_type": "code",
      "source": [
        "import math\n",
        "import random"
      ],
      "metadata": {
        "id": "TyYz8vCxFoKx"
      },
      "execution_count": null,
      "outputs": []
    },
    {
      "cell_type": "code",
      "source": [
        "money = 10000\n",
        "cost = 1000\n",
        "again = 1\n",
        "\n",
        "answer = []\n",
        "\n",
        "while again and (money >= cost):\n",
        "  money -= cost\n",
        "  for i in range(7):\n",
        "    answer.append(random.randint(1,11))\n",
        "  user_ball = map(int, input('input your guess =>').split())\n",
        "  if user_ball == answer:\n",
        "    print('you won!!!')\n",
        "  else:\n",
        "    print('The answer was', answer)\n",
        "    print('Do you want to do it again?(cost:1000, remaining money: {})\\n'.format(money))\n",
        "    again = int(input('(1: yes, 0: no) => '))\n",
        "\n",
        "print('remaining money:', money)\n"
      ],
      "metadata": {
        "colab": {
          "base_uri": "https://localhost:8080/"
        },
        "id": "xek4thND4QUK",
        "outputId": "02f7cc09-1cb9-4bd2-bc8d-5fac9a909aa8"
      },
      "execution_count": null,
      "outputs": [
        {
          "output_type": "stream",
          "name": "stdout",
          "text": [
            "input your guess =>1 2 3 4 5 6 7\n",
            "The answer was [7, 2, 1, 11, 8, 7, 6]\n",
            "Do you want to do it again?(cost:1000, remaining money: 9000)\n",
            "\n",
            "(1: yes, 0: no) => 0\n",
            "remaining money: 9000\n"
          ]
        }
      ]
    },
    {
      "cell_type": "markdown",
      "source": [
        "# numpy"
      ],
      "metadata": {
        "id": "3ga1D8dqO_lc"
      }
    },
    {
      "cell_type": "code",
      "source": [
        "import numpy as np"
      ],
      "metadata": {
        "id": "gWxzGyHBPjS9"
      },
      "execution_count": null,
      "outputs": []
    },
    {
      "cell_type": "code",
      "source": [
        "a = np.array([[0,1,2],[3,4,5]])\n",
        "a"
      ],
      "metadata": {
        "colab": {
          "base_uri": "https://localhost:8080/"
        },
        "id": "H9oZXSEA7Aie",
        "outputId": "6b2bd4ac-58a8-4187-aa72-ac3eaf4f33e3"
      },
      "execution_count": null,
      "outputs": [
        {
          "output_type": "execute_result",
          "data": {
            "text/plain": [
              "array([[0, 1, 2],\n",
              "       [3, 4, 5]])"
            ]
          },
          "metadata": {},
          "execution_count": 63
        }
      ]
    },
    {
      "cell_type": "code",
      "source": [
        "a[0,0]"
      ],
      "metadata": {
        "colab": {
          "base_uri": "https://localhost:8080/"
        },
        "id": "3UIuyu6d7F3y",
        "outputId": "4dc032b7-c93d-4b30-850a-dd625a6d62e5"
      },
      "execution_count": null,
      "outputs": [
        {
          "output_type": "execute_result",
          "data": {
            "text/plain": [
              "0"
            ]
          },
          "metadata": {},
          "execution_count": 64
        }
      ]
    },
    {
      "cell_type": "code",
      "source": [
        "a[0,:]"
      ],
      "metadata": {
        "colab": {
          "base_uri": "https://localhost:8080/"
        },
        "id": "dPgVl0m87G1c",
        "outputId": "b965c141-7544-4515-d981-26fb49de7647"
      },
      "execution_count": null,
      "outputs": [
        {
          "output_type": "execute_result",
          "data": {
            "text/plain": [
              "array([0, 1, 2])"
            ]
          },
          "metadata": {},
          "execution_count": 65
        }
      ]
    },
    {
      "cell_type": "code",
      "source": [
        "a[0,0:2]"
      ],
      "metadata": {
        "colab": {
          "base_uri": "https://localhost:8080/"
        },
        "id": "b-Ez_0Ga7H5P",
        "outputId": "29a100c2-8b31-4669-b6ff-00b799f03972"
      },
      "execution_count": null,
      "outputs": [
        {
          "output_type": "execute_result",
          "data": {
            "text/plain": [
              "array([0, 1])"
            ]
          },
          "metadata": {},
          "execution_count": 66
        }
      ]
    },
    {
      "cell_type": "code",
      "source": [
        "b=np.array([0,1,2]) * 10\n",
        "b"
      ],
      "metadata": {
        "colab": {
          "base_uri": "https://localhost:8080/"
        },
        "id": "HVmzB1W87JoH",
        "outputId": "06b6507f-5761-4d67-a68f-ef4ebf2b915d"
      },
      "execution_count": null,
      "outputs": [
        {
          "output_type": "execute_result",
          "data": {
            "text/plain": [
              "array([ 0, 10, 20])"
            ]
          },
          "metadata": {},
          "execution_count": 69
        }
      ]
    },
    {
      "cell_type": "code",
      "source": [
        "idx1 = np.array([True, False, True])"
      ],
      "metadata": {
        "id": "Kk-4O7Jz7Sdq"
      },
      "execution_count": null,
      "outputs": []
    },
    {
      "cell_type": "code",
      "source": [
        "print(b[idx1])"
      ],
      "metadata": {
        "colab": {
          "base_uri": "https://localhost:8080/"
        },
        "id": "ofkWxPyD7O69",
        "outputId": "15ee2302-8c0a-4154-8e9d-9565b6641ac5"
      },
      "execution_count": null,
      "outputs": [
        {
          "output_type": "stream",
          "name": "stdout",
          "text": [
            "[ 0 20]\n"
          ]
        }
      ]
    },
    {
      "cell_type": "code",
      "source": [
        "c=np.array([0,1,2,3,4,5,6,7]) * 10\n",
        "idx2 = np.array([0,2,3,3,6])\n",
        "print(c[idx2])"
      ],
      "metadata": {
        "colab": {
          "base_uri": "https://localhost:8080/"
        },
        "id": "PqP6_Kxk7Nrc",
        "outputId": "324b203d-ecab-4c18-d042-9c8d23da2973"
      },
      "execution_count": null,
      "outputs": [
        {
          "output_type": "stream",
          "name": "stdout",
          "text": [
            "[ 0 20 30 30 60]\n"
          ]
        }
      ]
    },
    {
      "cell_type": "code",
      "source": [
        "a = a.reshape(3,2)\n"
      ],
      "metadata": {
        "id": "VeB2eqUg7gXS"
      },
      "execution_count": null,
      "outputs": []
    },
    {
      "cell_type": "code",
      "source": [
        "d=np.array([[1,2],[3,4],[5,6]])\n",
        "a_Y = np.concatenate((a,d), axis = 0) # merging vertically\n",
        "a_Y"
      ],
      "metadata": {
        "colab": {
          "base_uri": "https://localhost:8080/"
        },
        "id": "5VJjxqqU7xd4",
        "outputId": "f3cc5deb-9117-4873-f75e-1c7d913ae29b"
      },
      "execution_count": null,
      "outputs": [
        {
          "output_type": "execute_result",
          "data": {
            "text/plain": [
              "array([[0, 1],\n",
              "       [2, 3],\n",
              "       [4, 5],\n",
              "       [1, 2],\n",
              "       [3, 4],\n",
              "       [5, 6]])"
            ]
          },
          "metadata": {},
          "execution_count": 81
        }
      ]
    },
    {
      "cell_type": "code",
      "source": [
        "a_X = np.concatenate((a,d), axis = 1)\n",
        "a_X"
      ],
      "metadata": {
        "colab": {
          "base_uri": "https://localhost:8080/"
        },
        "id": "0MY_wmMs8BrB",
        "outputId": "7ce2d6a0-544f-4408-de7c-0df9b0f76306"
      },
      "execution_count": null,
      "outputs": [
        {
          "output_type": "execute_result",
          "data": {
            "text/plain": [
              "array([[0, 1, 1, 2],\n",
              "       [2, 3, 3, 4],\n",
              "       [4, 5, 5, 6]])"
            ]
          },
          "metadata": {},
          "execution_count": 82
        }
      ]
    },
    {
      "cell_type": "code",
      "source": [
        "\n",
        "# numpy.split()\n",
        "\n",
        "e = np.array([[1,2,3],[4,5,6],[7,8,9],[10,11,12]])"
      ],
      "metadata": {
        "id": "JkUMmACOPCug"
      },
      "execution_count": null,
      "outputs": []
    },
    {
      "cell_type": "code",
      "source": [
        "e"
      ],
      "metadata": {
        "colab": {
          "base_uri": "https://localhost:8080/"
        },
        "id": "nC13prGCPfn1",
        "outputId": "c15c3a35-c720-4c41-d67a-0ac4dce70b90"
      },
      "execution_count": null,
      "outputs": [
        {
          "output_type": "execute_result",
          "data": {
            "text/plain": [
              "array([[ 1,  2,  3],\n",
              "       [ 4,  5,  6],\n",
              "       [ 7,  8,  9],\n",
              "       [10, 11, 12]])"
            ]
          },
          "metadata": {},
          "execution_count": 5
        }
      ]
    },
    {
      "cell_type": "code",
      "source": [
        "slice_Y_equal_size = np.split(e, 2, axis = 0)\n",
        "print(slice_Y_equal_size)"
      ],
      "metadata": {
        "colab": {
          "base_uri": "https://localhost:8080/"
        },
        "id": "c1TYACQHPobj",
        "outputId": "c39efa43-ef10-423e-f4a0-052960fa2c76"
      },
      "execution_count": null,
      "outputs": [
        {
          "output_type": "stream",
          "name": "stdout",
          "text": [
            "[array([[1, 2, 3],\n",
            "       [4, 5, 6]]), array([[ 7,  8,  9],\n",
            "       [10, 11, 12]])]\n"
          ]
        }
      ]
    },
    {
      "cell_type": "code",
      "source": [
        "slice_Y_different_size = np.split(e, [2,3], axis = 0)\n",
        "slice_Y_different_size"
      ],
      "metadata": {
        "colab": {
          "base_uri": "https://localhost:8080/"
        },
        "id": "_TLWLypHPz07",
        "outputId": "ba381ecf-e83b-40bd-89b7-a8a3d127394e"
      },
      "execution_count": null,
      "outputs": [
        {
          "output_type": "execute_result",
          "data": {
            "text/plain": [
              "[array([[1, 2, 3],\n",
              "        [4, 5, 6]]),\n",
              " array([[7, 8, 9]]),\n",
              " array([[10, 11, 12]])]"
            ]
          },
          "metadata": {},
          "execution_count": 7
        }
      ]
    },
    {
      "cell_type": "code",
      "source": [
        "# numpy.sum()\n",
        "\n",
        "f = np.arange(4*2*4).reshape(4,2,4)"
      ],
      "metadata": {
        "id": "dqEXm3HKQdDM"
      },
      "execution_count": null,
      "outputs": []
    },
    {
      "cell_type": "code",
      "source": [
        "new_f = np.sum(f)\n",
        "new_f"
      ],
      "metadata": {
        "colab": {
          "base_uri": "https://localhost:8080/"
        },
        "id": "xRZH8rttisJp",
        "outputId": "8f38f0c7-a7e0-41e5-b6c2-204d78bdb1ab"
      },
      "execution_count": null,
      "outputs": [
        {
          "output_type": "execute_result",
          "data": {
            "text/plain": [
              "496"
            ]
          },
          "metadata": {},
          "execution_count": 9
        }
      ]
    },
    {
      "cell_type": "code",
      "source": [
        "np.sum(f[f>10])"
      ],
      "metadata": {
        "colab": {
          "base_uri": "https://localhost:8080/"
        },
        "id": "UfuGeN9ki4VO",
        "outputId": "787e5165-10b4-47d6-af02-0cfc144b3233"
      },
      "execution_count": null,
      "outputs": [
        {
          "output_type": "execute_result",
          "data": {
            "text/plain": [
              "441"
            ]
          },
          "metadata": {},
          "execution_count": 10
        }
      ]
    },
    {
      "cell_type": "code",
      "source": [
        "np.max(a)"
      ],
      "metadata": {
        "colab": {
          "base_uri": "https://localhost:8080/"
        },
        "id": "_I7Uw8N69Awt",
        "outputId": "9140b287-3a16-40fd-b7ce-b700bd2f7027"
      },
      "execution_count": null,
      "outputs": [
        {
          "output_type": "execute_result",
          "data": {
            "text/plain": [
              "5"
            ]
          },
          "metadata": {},
          "execution_count": 83
        }
      ]
    },
    {
      "cell_type": "code",
      "source": [
        "np.min(a)"
      ],
      "metadata": {
        "colab": {
          "base_uri": "https://localhost:8080/"
        },
        "id": "PHFV270I9CGz",
        "outputId": "bfd7cba2-a842-4a1a-c4eb-39c57bb0243f"
      },
      "execution_count": null,
      "outputs": [
        {
          "output_type": "execute_result",
          "data": {
            "text/plain": [
              "0"
            ]
          },
          "metadata": {},
          "execution_count": 84
        }
      ]
    },
    {
      "cell_type": "code",
      "source": [
        "np.mean(a)"
      ],
      "metadata": {
        "colab": {
          "base_uri": "https://localhost:8080/"
        },
        "id": "V6kBni789DUY",
        "outputId": "cf1ce89e-3265-40bb-b6dd-e455d07acc93"
      },
      "execution_count": null,
      "outputs": [
        {
          "output_type": "execute_result",
          "data": {
            "text/plain": [
              "2.5"
            ]
          },
          "metadata": {},
          "execution_count": 85
        }
      ]
    },
    {
      "cell_type": "code",
      "source": [
        "np.std(a)"
      ],
      "metadata": {
        "colab": {
          "base_uri": "https://localhost:8080/"
        },
        "id": "uS1ii1jN9EOX",
        "outputId": "afcac1aa-cc61-4a83-9eeb-a2c9c4390ea0"
      },
      "execution_count": null,
      "outputs": [
        {
          "output_type": "execute_result",
          "data": {
            "text/plain": [
              "1.707825127659933"
            ]
          },
          "metadata": {},
          "execution_count": 86
        }
      ]
    },
    {
      "cell_type": "markdown",
      "source": [
        "## Lab\n",
        "use numpy.dot()"
      ],
      "metadata": {
        "id": "fBWhMQG1_Tub"
      }
    },
    {
      "cell_type": "code",
      "source": [
        "A = np.array([1,2,3,4,5,6])\n",
        "B = np.array([11,12,13,14,15,16])"
      ],
      "metadata": {
        "id": "djUMCpKY_WG0"
      },
      "execution_count": null,
      "outputs": []
    },
    {
      "cell_type": "code",
      "source": [
        "A_reshaped = A.reshape(3,2)\n",
        "B_reshaped = B.reshape(2,3)"
      ],
      "metadata": {
        "id": "yzFOJGvKAX3N"
      },
      "execution_count": null,
      "outputs": []
    },
    {
      "cell_type": "code",
      "source": [
        "np.dot(A_reshaped, B_reshaped)"
      ],
      "metadata": {
        "colab": {
          "base_uri": "https://localhost:8080/"
        },
        "id": "Ias6yEtCAbnr",
        "outputId": "cb357e03-3394-49df-dad8-1658cf755c1b"
      },
      "execution_count": null,
      "outputs": [
        {
          "output_type": "execute_result",
          "data": {
            "text/plain": [
              "array([[ 39,  42,  45],\n",
              "       [ 89,  96, 103],\n",
              "       [139, 150, 161]])"
            ]
          },
          "metadata": {},
          "execution_count": 92
        }
      ]
    },
    {
      "cell_type": "markdown",
      "source": [
        "## Lab\n",
        "use numpy methods"
      ],
      "metadata": {
        "id": "fpgom9MM_Wif"
      }
    },
    {
      "cell_type": "code",
      "source": [
        "import numpy as np\n",
        "\n",
        "A = np.array([[1,4,5,8],[2,1,7,3],[5,4,5,9]])\n",
        "B=A.reshape(6,2)\n",
        "Bsplit = np.split(B, 2, axis=0)\n",
        "C = Bsplit[0]\n",
        "D = Bsplit[1]\n",
        "E = np.concatenate((C,D), axis=1)"
      ],
      "metadata": {
        "id": "Gnq090LJ_ZGM"
      },
      "execution_count": null,
      "outputs": []
    },
    {
      "cell_type": "code",
      "execution_count": null,
      "metadata": {
        "id": "zOcwYEUqxnCZ"
      },
      "outputs": [],
      "source": [
        "numbers = [1,2,3,4,5] # declaring a list"
      ]
    },
    {
      "cell_type": "code",
      "source": [
        "numbers[0] # to get a value in a list, we use index. And the way getting a value in a list is called \"indexing\""
      ],
      "metadata": {
        "colab": {
          "base_uri": "https://localhost:8080/"
        },
        "id": "pFXSMwbAxovB",
        "outputId": "92a78641-d2e0-4a67-c6c3-83f5b5712a4c"
      },
      "execution_count": null,
      "outputs": [
        {
          "output_type": "execute_result",
          "data": {
            "text/plain": [
              "1"
            ]
          },
          "metadata": {},
          "execution_count": 2
        }
      ]
    },
    {
      "cell_type": "code",
      "source": [
        "numbers[100] # because there is no value in the index 100, an error occurs."
      ],
      "metadata": {
        "colab": {
          "base_uri": "https://localhost:8080/",
          "height": 168
        },
        "id": "IdPvmwS-xpeD",
        "outputId": "3d54870f-c6ef-4abf-a0d6-4598eb66cc58"
      },
      "execution_count": null,
      "outputs": [
        {
          "output_type": "error",
          "ename": "IndexError",
          "evalue": "ignored",
          "traceback": [
            "\u001b[0;31m---------------------------------------------------------------------------\u001b[0m",
            "\u001b[0;31mIndexError\u001b[0m                                Traceback (most recent call last)",
            "\u001b[0;32m<ipython-input-3-6bd80f0b9f0d>\u001b[0m in \u001b[0;36m<cell line: 1>\u001b[0;34m()\u001b[0m\n\u001b[0;32m----> 1\u001b[0;31m \u001b[0mnumbers\u001b[0m\u001b[0;34m[\u001b[0m\u001b[0;36m100\u001b[0m\u001b[0;34m]\u001b[0m\u001b[0;34m\u001b[0m\u001b[0;34m\u001b[0m\u001b[0m\n\u001b[0m",
            "\u001b[0;31mIndexError\u001b[0m: list index out of range"
          ]
        }
      ]
    },
    {
      "cell_type": "code",
      "source": [
        "print(\"the number of elements in the list numbers: \", len(numbers)) # to get the number of elements in a list, we use len() function"
      ],
      "metadata": {
        "colab": {
          "base_uri": "https://localhost:8080/"
        },
        "id": "dRCi1vAWxp8f",
        "outputId": "6bff1d9f-19a3-4d75-fc1f-2ad9a009355a"
      },
      "execution_count": null,
      "outputs": [
        {
          "output_type": "stream",
          "name": "stdout",
          "text": [
            "the number of elements in the list numbers:  5\n"
          ]
        }
      ]
    },
    {
      "cell_type": "code",
      "source": [
        "numbers"
      ],
      "metadata": {
        "colab": {
          "base_uri": "https://localhost:8080/"
        },
        "id": "xU7Tq5NTym17",
        "outputId": "d9e67f5b-969a-45f5-86f2-684bcd3b3b92"
      },
      "execution_count": null,
      "outputs": [
        {
          "output_type": "execute_result",
          "data": {
            "text/plain": [
              "[1, 2, 3, 4, 5]"
            ]
          },
          "metadata": {},
          "execution_count": 5
        }
      ]
    },
    {
      "cell_type": "code",
      "source": [
        "numbers[0:2] # start: 0 , end: 2, step: 1(default) -> 0~1"
      ],
      "metadata": {
        "colab": {
          "base_uri": "https://localhost:8080/"
        },
        "id": "pqv6gjaF0iCa",
        "outputId": "68696081-6ae6-4a39-a0f7-1bb6538c4f4a"
      },
      "execution_count": null,
      "outputs": [
        {
          "output_type": "execute_result",
          "data": {
            "text/plain": [
              "[1, 2]"
            ]
          },
          "metadata": {},
          "execution_count": 6
        }
      ]
    },
    {
      "cell_type": "code",
      "source": [
        "numbers[0::3] # start: 0, end: len(numbers), step: 3 -> 0,3"
      ],
      "metadata": {
        "colab": {
          "base_uri": "https://localhost:8080/"
        },
        "id": "ySiO_FNa0kJC",
        "outputId": "f8365581-7828-4b91-aa5a-126116dd4c92"
      },
      "execution_count": null,
      "outputs": [
        {
          "output_type": "execute_result",
          "data": {
            "text/plain": [
              "[1, 4]"
            ]
          },
          "metadata": {},
          "execution_count": 7
        }
      ]
    },
    {
      "cell_type": "code",
      "source": [
        "numbers[::-1] # to reverse a list, we write like this format: name_of_list[::-1]"
      ],
      "metadata": {
        "colab": {
          "base_uri": "https://localhost:8080/"
        },
        "id": "ZiH_Nj4u01lX",
        "outputId": "266a8a9e-57c8-4ee5-8741-bf94d119738a"
      },
      "execution_count": null,
      "outputs": [
        {
          "output_type": "execute_result",
          "data": {
            "text/plain": [
              "[5, 4, 3, 2, 1]"
            ]
          },
          "metadata": {},
          "execution_count": 8
        }
      ]
    },
    {
      "cell_type": "code",
      "source": [
        "hong = \"hello\" # strings can be viewed as a list."
      ],
      "metadata": {
        "id": "j6ppR2h12KBA"
      },
      "execution_count": null,
      "outputs": []
    },
    {
      "cell_type": "code",
      "source": [
        "hong[0] # we can do \"indexing\""
      ],
      "metadata": {
        "colab": {
          "base_uri": "https://localhost:8080/",
          "height": 35
        },
        "id": "x5vTkN9m3o0v",
        "outputId": "64ee6483-9d55-4e70-ca88-d1a656867f61"
      },
      "execution_count": null,
      "outputs": [
        {
          "output_type": "execute_result",
          "data": {
            "text/plain": [
              "'h'"
            ],
            "application/vnd.google.colaboratory.intrinsic+json": {
              "type": "string"
            }
          },
          "metadata": {},
          "execution_count": 10
        }
      ]
    },
    {
      "cell_type": "code",
      "source": [
        "hong[0:3] # also we can do \"slicing\""
      ],
      "metadata": {
        "colab": {
          "base_uri": "https://localhost:8080/",
          "height": 35
        },
        "id": "CjdDPE873qIp",
        "outputId": "8b7ae78a-7cc2-4896-e552-0f035c5a9431"
      },
      "execution_count": null,
      "outputs": [
        {
          "output_type": "execute_result",
          "data": {
            "text/plain": [
              "'hel'"
            ],
            "application/vnd.google.colaboratory.intrinsic+json": {
              "type": "string"
            }
          },
          "metadata": {},
          "execution_count": 11
        }
      ]
    },
    {
      "cell_type": "code",
      "source": [
        "s = input()"
      ],
      "metadata": {
        "colab": {
          "base_uri": "https://localhost:8080/"
        },
        "id": "VuYFpjMe3rkD",
        "outputId": "23b0ed2b-2b95-449c-9e46-1b31198c74b4"
      },
      "execution_count": null,
      "outputs": [
        {
          "name": "stdout",
          "output_type": "stream",
          "text": [
            "level\n"
          ]
        }
      ]
    },
    {
      "cell_type": "code",
      "source": [
        "s_new = s[::-1]"
      ],
      "metadata": {
        "id": "Xh0UwZQq98rJ"
      },
      "execution_count": null,
      "outputs": []
    },
    {
      "cell_type": "code",
      "source": [
        "s_new"
      ],
      "metadata": {
        "colab": {
          "base_uri": "https://localhost:8080/",
          "height": 35
        },
        "id": "Cqd4dTmh-Esg",
        "outputId": "7b0c7c62-106b-4b8a-b516-60764f004804"
      },
      "execution_count": null,
      "outputs": [
        {
          "output_type": "execute_result",
          "data": {
            "text/plain": [
              "'level'"
            ],
            "application/vnd.google.colaboratory.intrinsic+json": {
              "type": "string"
            }
          },
          "metadata": {},
          "execution_count": 14
        }
      ]
    },
    {
      "cell_type": "code",
      "source": [
        "if s == s_new:\n",
        "  print(\"yes\")\n",
        "else:\n",
        "  print(\"No\")"
      ],
      "metadata": {
        "colab": {
          "base_uri": "https://localhost:8080/"
        },
        "id": "1NKix8kR-Izw",
        "outputId": "df4d7be7-3529-48d1-c977-a1c28b314287"
      },
      "execution_count": null,
      "outputs": [
        {
          "output_type": "stream",
          "name": "stdout",
          "text": [
            "yes\n"
          ]
        }
      ]
    },
    {
      "cell_type": "code",
      "source": [
        "s = input() # receiving user data\n",
        "s_new = s[::-1] # reverse the user data\n",
        "if s == s_new: # if original data and reversed data are same\n",
        "  print(\"yes, it's a palindrome\")\n",
        "else: # if not\n",
        "  print(\"No, it's not a palindrome\")"
      ],
      "metadata": {
        "id": "hJUv9hrD-VUe"
      },
      "execution_count": null,
      "outputs": []
    },
    {
      "cell_type": "code",
      "source": [
        "s = [1,2,3,4] # declaring a list"
      ],
      "metadata": {
        "id": "GqVhVX4h_bHs"
      },
      "execution_count": null,
      "outputs": []
    },
    {
      "cell_type": "code",
      "source": [
        "s[0] = 3 # changing the value at index 0"
      ],
      "metadata": {
        "id": "WpkIGn4z_w-S"
      },
      "execution_count": null,
      "outputs": []
    },
    {
      "cell_type": "code",
      "source": [
        "s"
      ],
      "metadata": {
        "colab": {
          "base_uri": "https://localhost:8080/"
        },
        "id": "cyLLeJW__ySN",
        "outputId": "735bbff6-6930-418b-cb32-f026927c4548"
      },
      "execution_count": null,
      "outputs": [
        {
          "output_type": "execute_result",
          "data": {
            "text/plain": [
              "[3, 2, 3, 4]"
            ]
          },
          "metadata": {},
          "execution_count": 22
        }
      ]
    },
    {
      "cell_type": "code",
      "source": [
        "s[3] = 100000 # changing the value at index 3"
      ],
      "metadata": {
        "id": "wOvd6_VB_ywN"
      },
      "execution_count": null,
      "outputs": []
    },
    {
      "cell_type": "code",
      "source": [
        "s"
      ],
      "metadata": {
        "colab": {
          "base_uri": "https://localhost:8080/"
        },
        "id": "q7au9smSAWqY",
        "outputId": "e38c99f3-1fa7-4300-e7e2-407dbe6b6f77"
      },
      "execution_count": null,
      "outputs": [
        {
          "output_type": "execute_result",
          "data": {
            "text/plain": [
              "[3, 2, 3, 100000]"
            ]
          },
          "metadata": {},
          "execution_count": 24
        }
      ]
    },
    {
      "cell_type": "code",
      "source": [
        "s.append(900) # adding new element at the end of the list s"
      ],
      "metadata": {
        "id": "ioe8MU8pAXIP"
      },
      "execution_count": null,
      "outputs": []
    },
    {
      "cell_type": "code",
      "source": [
        "s"
      ],
      "metadata": {
        "colab": {
          "base_uri": "https://localhost:8080/"
        },
        "id": "IdDCAvwgAhvV",
        "outputId": "d841cedc-d6b7-4c89-8175-62f4cf042ece"
      },
      "execution_count": null,
      "outputs": [
        {
          "output_type": "execute_result",
          "data": {
            "text/plain": [
              "[3, 2, 3, 100000, 900]"
            ]
          },
          "metadata": {},
          "execution_count": 26
        }
      ]
    },
    {
      "cell_type": "code",
      "source": [
        "s.remove(900) # removing an element from the list. the format is: name_of_list.remove(value)"
      ],
      "metadata": {
        "id": "Vp2JJL2mAiDe"
      },
      "execution_count": null,
      "outputs": []
    },
    {
      "cell_type": "code",
      "source": [
        "s"
      ],
      "metadata": {
        "colab": {
          "base_uri": "https://localhost:8080/"
        },
        "id": "EL_-f-ypAs02",
        "outputId": "df1a22ce-b7b1-45f0-a6d4-4c0caa05eb09"
      },
      "execution_count": null,
      "outputs": [
        {
          "output_type": "execute_result",
          "data": {
            "text/plain": [
              "[3, 2, 3, 100000]"
            ]
          },
          "metadata": {},
          "execution_count": 28
        }
      ]
    },
    {
      "cell_type": "code",
      "source": [
        "s.pop(0) # removing an element rom the list. the format is: name_of_list.pop(index)"
      ],
      "metadata": {
        "colab": {
          "base_uri": "https://localhost:8080/"
        },
        "id": "wmEJWqKqAuC6",
        "outputId": "dac277f6-c005-4367-8e5e-c8cbe37c1d54"
      },
      "execution_count": null,
      "outputs": [
        {
          "output_type": "execute_result",
          "data": {
            "text/plain": [
              "3"
            ]
          },
          "metadata": {},
          "execution_count": 29
        }
      ]
    },
    {
      "cell_type": "code",
      "source": [
        "s"
      ],
      "metadata": {
        "colab": {
          "base_uri": "https://localhost:8080/"
        },
        "id": "LluT2purAxEo",
        "outputId": "88911945-cf4d-4a2a-f5f6-25275dc1f6b6"
      },
      "execution_count": null,
      "outputs": [
        {
          "output_type": "execute_result",
          "data": {
            "text/plain": [
              "[2, 3, 100000]"
            ]
          },
          "metadata": {},
          "execution_count": 30
        }
      ]
    },
    {
      "cell_type": "code",
      "source": [
        "import numpy as np # importing numpy library into a python file and giving a nickname which is \"np\""
      ],
      "metadata": {
        "id": "C9cAYqFKAxhD"
      },
      "execution_count": null,
      "outputs": []
    },
    {
      "cell_type": "code",
      "source": [
        "a = np.array([1,2,3,4,5,6]) # making an ndarray. And this is a 1 dimensional array.\n",
        "# [1,2,3,4,5,6]"
      ],
      "metadata": {
        "id": "BhRB07VxGNQu"
      },
      "execution_count": null,
      "outputs": []
    },
    {
      "cell_type": "code",
      "source": [
        "a"
      ],
      "metadata": {
        "colab": {
          "base_uri": "https://localhost:8080/"
        },
        "id": "iqXkc-UeGhpD",
        "outputId": "bed25811-b0ae-44f1-d130-015d00050f43"
      },
      "execution_count": null,
      "outputs": [
        {
          "output_type": "execute_result",
          "data": {
            "text/plain": [
              "array([1, 2, 3, 4, 5, 6])"
            ]
          },
          "metadata": {},
          "execution_count": 37
        }
      ]
    },
    {
      "cell_type": "code",
      "source": [
        "a[0] # indexing"
      ],
      "metadata": {
        "colab": {
          "base_uri": "https://localhost:8080/"
        },
        "id": "UHbKhuGIGmZ2",
        "outputId": "3345cee9-911a-402c-a0f9-2d7550fe2efa"
      },
      "execution_count": null,
      "outputs": [
        {
          "output_type": "execute_result",
          "data": {
            "text/plain": [
              "1"
            ]
          },
          "metadata": {},
          "execution_count": 38
        }
      ]
    },
    {
      "cell_type": "code",
      "source": [
        "a[3] # indexing"
      ],
      "metadata": {
        "colab": {
          "base_uri": "https://localhost:8080/"
        },
        "id": "ZiC_7sG6GqKD",
        "outputId": "b32f2903-b845-42cd-bcdd-260184396b3d"
      },
      "execution_count": null,
      "outputs": [
        {
          "output_type": "execute_result",
          "data": {
            "text/plain": [
              "4"
            ]
          },
          "metadata": {},
          "execution_count": 39
        }
      ]
    },
    {
      "cell_type": "code",
      "source": [
        "a[4] # indexing"
      ],
      "metadata": {
        "id": "C7FRh2YEG5rA"
      },
      "execution_count": null,
      "outputs": []
    },
    {
      "cell_type": "code",
      "source": [
        "a = np.array([[0,1,2], [3,4,5]]) # declaring an ndarray"
      ],
      "metadata": {
        "id": "0I3RXGUlut1t"
      },
      "execution_count": null,
      "outputs": []
    },
    {
      "cell_type": "code",
      "source": [
        "a # this is 2 dimensional matrix"
      ],
      "metadata": {
        "colab": {
          "base_uri": "https://localhost:8080/"
        },
        "id": "ZQM7RauJv08u",
        "outputId": "518ba93c-aa92-4a59-f5bf-95abccce40e2"
      },
      "execution_count": null,
      "outputs": [
        {
          "output_type": "execute_result",
          "data": {
            "text/plain": [
              "array([[0, 1, 2],\n",
              "       [3, 4, 5]])"
            ]
          },
          "metadata": {},
          "execution_count": 22
        }
      ]
    },
    {
      "cell_type": "code",
      "source": [
        "a[0,1] # printing the value at row 0 and column 1"
      ],
      "metadata": {
        "colab": {
          "base_uri": "https://localhost:8080/"
        },
        "id": "j6uIJxZVv41l",
        "outputId": "91c36884-9ce1-4e78-f83a-111b484af1ce"
      },
      "execution_count": null,
      "outputs": [
        {
          "output_type": "execute_result",
          "data": {
            "text/plain": [
              "1"
            ]
          },
          "metadata": {},
          "execution_count": 23
        }
      ]
    },
    {
      "cell_type": "code",
      "source": [
        "a[1,0] # printing the value at row 1 and column 0"
      ],
      "metadata": {
        "colab": {
          "base_uri": "https://localhost:8080/"
        },
        "id": "3oAhsfgNxLsl",
        "outputId": "c66af600-0244-42f4-b496-516b38b7ff62"
      },
      "execution_count": null,
      "outputs": [
        {
          "output_type": "execute_result",
          "data": {
            "text/plain": [
              "3"
            ]
          },
          "metadata": {},
          "execution_count": 24
        }
      ]
    },
    {
      "cell_type": "code",
      "source": [
        "a[0] # printing values at row 0"
      ],
      "metadata": {
        "colab": {
          "base_uri": "https://localhost:8080/"
        },
        "id": "aXtTUYoEy9iK",
        "outputId": "1e2accaa-de6b-4e67-80fd-4a7886d3614d"
      },
      "execution_count": null,
      "outputs": [
        {
          "output_type": "execute_result",
          "data": {
            "text/plain": [
              "array([0, 1, 2])"
            ]
          },
          "metadata": {},
          "execution_count": 25
        }
      ]
    },
    {
      "cell_type": "code",
      "source": [
        "a[1] # printing values at row 1"
      ],
      "metadata": {
        "colab": {
          "base_uri": "https://localhost:8080/"
        },
        "id": "k6vst_CKzLrK",
        "outputId": "2c380213-9492-4857-ee70-1a41b280e1d8"
      },
      "execution_count": null,
      "outputs": [
        {
          "output_type": "execute_result",
          "data": {
            "text/plain": [
              "array([3, 4, 5])"
            ]
          },
          "metadata": {},
          "execution_count": 26
        }
      ]
    },
    {
      "cell_type": "code",
      "source": [
        "a"
      ],
      "metadata": {
        "colab": {
          "base_uri": "https://localhost:8080/"
        },
        "id": "FWDlEuIXz5WF",
        "outputId": "a42c4ad7-39da-4659-ced9-324511ca7599"
      },
      "execution_count": null,
      "outputs": [
        {
          "output_type": "execute_result",
          "data": {
            "text/plain": [
              "array([[0, 1, 2],\n",
              "       [3, 4, 5]])"
            ]
          },
          "metadata": {},
          "execution_count": 28
        }
      ]
    },
    {
      "cell_type": "code",
      "source": [
        "a[0, 0:2] # we can do slicing as well"
      ],
      "metadata": {
        "colab": {
          "base_uri": "https://localhost:8080/"
        },
        "id": "EMTuBF0kzYzS",
        "outputId": "21d0c282-32ca-43c9-809e-39959e996366"
      },
      "execution_count": null,
      "outputs": [
        {
          "output_type": "execute_result",
          "data": {
            "text/plain": [
              "array([0, 1])"
            ]
          },
          "metadata": {},
          "execution_count": 27
        }
      ]
    },
    {
      "cell_type": "code",
      "source": [
        "b = a.reshape(3,2) # reshaping ndarray a which is a 2 by 3 matrix into a 3 by 2 matrix. And store the reshaped matrix to variable b"
      ],
      "metadata": {
        "id": "0pm7lWzEz-Qs"
      },
      "execution_count": null,
      "outputs": []
    },
    {
      "cell_type": "code",
      "source": [
        "b"
      ],
      "metadata": {
        "colab": {
          "base_uri": "https://localhost:8080/"
        },
        "id": "ebEz1kAE0OJX",
        "outputId": "7869e17f-56b8-4c25-ba24-1b04e1be1a7e"
      },
      "execution_count": null,
      "outputs": [
        {
          "output_type": "execute_result",
          "data": {
            "text/plain": [
              "array([[0, 1],\n",
              "       [2, 3],\n",
              "       [4, 5]])"
            ]
          },
          "metadata": {},
          "execution_count": 30
        }
      ]
    },
    {
      "cell_type": "code",
      "source": [
        "a"
      ],
      "metadata": {
        "colab": {
          "base_uri": "https://localhost:8080/"
        },
        "id": "1gQTgArK0Ojs",
        "outputId": "b1d34081-71ec-46dd-b2a3-4d57689e66de"
      },
      "execution_count": null,
      "outputs": [
        {
          "output_type": "execute_result",
          "data": {
            "text/plain": [
              "array([[0, 1, 2],\n",
              "       [3, 4, 5]])"
            ]
          },
          "metadata": {},
          "execution_count": 31
        }
      ]
    },
    {
      "cell_type": "code",
      "source": [
        "a+10 # +10 operation is applied to all elements in the ndarray a"
      ],
      "metadata": {
        "colab": {
          "base_uri": "https://localhost:8080/"
        },
        "id": "_1p6hRvr8cgh",
        "outputId": "f7cd26eb-d0af-49b4-c8e4-1d846983a62a"
      },
      "execution_count": null,
      "outputs": [
        {
          "output_type": "execute_result",
          "data": {
            "text/plain": [
              "array([[10, 11, 12],\n",
              "       [13, 14, 15]])"
            ]
          },
          "metadata": {},
          "execution_count": 32
        }
      ]
    },
    {
      "cell_type": "code",
      "source": [
        "a*10 # *10 operation is applied to all element in the ndarray a\n",
        "\n",
        "# so this is called \"broadcasting\", because same operation is applied to all element in an ndarray."
      ],
      "metadata": {
        "colab": {
          "base_uri": "https://localhost:8080/"
        },
        "id": "2X1jfgRk8diR",
        "outputId": "1424cb60-ec7a-4f35-877c-1204ffd859c2"
      },
      "execution_count": null,
      "outputs": [
        {
          "output_type": "execute_result",
          "data": {
            "text/plain": [
              "array([[ 0, 10, 20],\n",
              "       [30, 40, 50]])"
            ]
          },
          "metadata": {},
          "execution_count": 33
        }
      ]
    },
    {
      "cell_type": "code",
      "source": [
        "a"
      ],
      "metadata": {
        "colab": {
          "base_uri": "https://localhost:8080/"
        },
        "id": "YeHO3DAh-KKL",
        "outputId": "9244eb18-a526-4e2d-b3d3-d6067073f9b5"
      },
      "execution_count": null,
      "outputs": [
        {
          "output_type": "execute_result",
          "data": {
            "text/plain": [
              "array([[0, 1, 2],\n",
              "       [3, 4, 5]])"
            ]
          },
          "metadata": {},
          "execution_count": 37
        }
      ]
    },
    {
      "cell_type": "code",
      "source": [
        "a.sum() # you can calculate sum of all elements by using sum() function"
      ],
      "metadata": {
        "colab": {
          "base_uri": "https://localhost:8080/"
        },
        "id": "dFoGzCky8zf3",
        "outputId": "fcc15130-9e24-4d1f-d728-2ae956b18bed"
      },
      "execution_count": null,
      "outputs": [
        {
          "output_type": "execute_result",
          "data": {
            "text/plain": [
              "15"
            ]
          },
          "metadata": {},
          "execution_count": 34
        }
      ]
    },
    {
      "cell_type": "code",
      "source": [
        "a.max() # you can get maximum element in an ndarray by using max() function"
      ],
      "metadata": {
        "colab": {
          "base_uri": "https://localhost:8080/"
        },
        "id": "55yYEZ1b9woC",
        "outputId": "632bfe7e-13b0-437f-f974-69c2d98f9914"
      },
      "execution_count": null,
      "outputs": [
        {
          "output_type": "execute_result",
          "data": {
            "text/plain": [
              "5"
            ]
          },
          "metadata": {},
          "execution_count": 35
        }
      ]
    },
    {
      "cell_type": "code",
      "source": [
        "a.min() # you can get minimum element in an ndarray by using min() function"
      ],
      "metadata": {
        "colab": {
          "base_uri": "https://localhost:8080/"
        },
        "id": "6BbIzfY_96N_",
        "outputId": "3e24f906-8ad1-4e80-9486-435ffdbbe4ad"
      },
      "execution_count": null,
      "outputs": [
        {
          "output_type": "execute_result",
          "data": {
            "text/plain": [
              "0"
            ]
          },
          "metadata": {},
          "execution_count": 36
        }
      ]
    },
    {
      "cell_type": "code",
      "source": [
        "a.mean() # you can calculate average of element in an ndarray by using mean() function"
      ],
      "metadata": {
        "colab": {
          "base_uri": "https://localhost:8080/"
        },
        "id": "GpofcXwq-AQ_",
        "outputId": "99a6a7aa-0a92-45be-82a1-77f695d9f841"
      },
      "execution_count": null,
      "outputs": [
        {
          "output_type": "execute_result",
          "data": {
            "text/plain": [
              "2.5"
            ]
          },
          "metadata": {},
          "execution_count": 38
        }
      ]
    },
    {
      "cell_type": "markdown",
      "source": [
        "# Lab\n",
        "\n",
        "y = np.array([220,250,230])\n",
        "\n",
        "add 100 to each element in y by using broadcasting<br>\n",
        "print elements whose values are more than 320"
      ],
      "metadata": {
        "id": "QXkxzmov378f"
      }
    },
    {
      "cell_type": "code",
      "source": [
        "import numpy as np"
      ],
      "metadata": {
        "id": "-ZsD1p5b4guk"
      },
      "execution_count": null,
      "outputs": []
    },
    {
      "cell_type": "code",
      "source": [
        "y = np.array([220, 250, 230]) # declaring an ndarray"
      ],
      "metadata": {
        "id": "B5OmuduJ-w_F"
      },
      "execution_count": null,
      "outputs": []
    },
    {
      "cell_type": "code",
      "source": [
        "y"
      ],
      "metadata": {
        "colab": {
          "base_uri": "https://localhost:8080/"
        },
        "id": "iWv_mvxP4Mzz",
        "outputId": "74d51040-8b11-4e4a-ef3b-2fa45a2080b5"
      },
      "execution_count": null,
      "outputs": [
        {
          "output_type": "execute_result",
          "data": {
            "text/plain": [
              "array([220, 250, 230])"
            ]
          },
          "metadata": {},
          "execution_count": 6
        }
      ]
    },
    {
      "cell_type": "code",
      "source": [
        "y = y+100 # broadcasting"
      ],
      "metadata": {
        "id": "Vet_8DQb4NRI"
      },
      "execution_count": null,
      "outputs": []
    },
    {
      "cell_type": "code",
      "source": [
        "y"
      ],
      "metadata": {
        "colab": {
          "base_uri": "https://localhost:8080/"
        },
        "id": "WtHtYRzV4Utq",
        "outputId": "8d878c27-4aaf-426f-f4d2-6de00f7d7069"
      },
      "execution_count": null,
      "outputs": [
        {
          "output_type": "execute_result",
          "data": {
            "text/plain": [
              "array([320, 350, 330])"
            ]
          },
          "metadata": {},
          "execution_count": 8
        }
      ]
    },
    {
      "cell_type": "code",
      "source": [
        "print(y[y>320])"
      ],
      "metadata": {
        "colab": {
          "base_uri": "https://localhost:8080/"
        },
        "id": "k-ApIDVg4VCX",
        "outputId": "e233f449-4299-4967-e4fa-cc3b11d17b14"
      },
      "execution_count": null,
      "outputs": [
        {
          "output_type": "stream",
          "name": "stdout",
          "text": [
            "[350 330]\n"
          ]
        }
      ]
    },
    {
      "cell_type": "code",
      "source": [],
      "metadata": {
        "id": "zl0U2E1Z4rPx"
      },
      "execution_count": null,
      "outputs": []
    }
  ]
}